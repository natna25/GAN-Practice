{
 "cells": [
  {
   "cell_type": "markdown",
   "metadata": {
    "colab_type": "text",
    "id": "H7ihNb26wlH_"
   },
   "source": [
    "# GAN for generating digits from MNIST dataset\n",
    "\n",
    "tutorial source: https://machinelearningmastery.com/how-to-develop-a-generative-adversarial-network-for-an-mnist-handwritten-digits-from-scratch-in-keras/\n"
   ]
  },
  {
   "cell_type": "code",
   "execution_count": 0,
   "metadata": {
    "colab": {},
    "colab_type": "code",
    "id": "5dIgwEsDwlIA"
   },
   "outputs": [],
   "source": [
    "import numpy as np\n",
    "import pandas as pd\n",
    "import matplotlib.pyplot as plt\n",
    "\n"
   ]
  },
  {
   "cell_type": "code",
   "execution_count": 2,
   "metadata": {
    "colab": {
     "base_uri": "https://localhost:8080/",
     "height": 70
    },
    "colab_type": "code",
    "id": "HFRDAoUrwlIC",
    "outputId": "859f994a-ef62-465d-939d-2740e75d2fc9"
   },
   "outputs": [
    {
     "name": "stderr",
     "output_type": "stream",
     "text": [
      "Using TensorFlow backend.\n"
     ]
    },
    {
     "name": "stdout",
     "output_type": "stream",
     "text": [
      "train shape: (60000, 28, 28)\n",
      "test shape: (10000, 28, 28)\n"
     ]
    }
   ],
   "source": [
    "from keras.datasets.mnist import load_data\n",
    "\n",
    "(X_train,y_train),(X_test,y_test) = load_data()\n",
    "\n",
    "print(\"train shape:\",X_train.shape)\n",
    "print(\"test shape:\",X_test.shape)"
   ]
  },
  {
   "cell_type": "code",
   "execution_count": 3,
   "metadata": {
    "colab": {
     "base_uri": "https://localhost:8080/",
     "height": 269
    },
    "colab_type": "code",
    "id": "L5VlzedJwlIF",
    "outputId": "90ced7e4-c579-40ed-c49b-47b41a000c1e"
   },
   "outputs": [
    {
     "data": {
      "image/png": "[encoded data removed]",
      "text/plain": [
       "<Figure size 432x288 with 25 Axes>"
      ]
     },
     "metadata": {
      "tags": []
     },
     "output_type": "display_data"
    }
   ],
   "source": [
    "for i in range(25):\n",
    "    plt.subplot(5,5, 1+i)\n",
    "    plt.axis(\"off\")\n",
    "    \n",
    "    plt.imshow(X_train[i],cmap='gray')"
   ]
  },
  {
   "cell_type": "markdown",
   "metadata": {
    "colab_type": "text",
    "id": "PDKbnXHJwlIH"
   },
   "source": [
    "## Building our discriminator model\n",
    "\n",
    "The second step here is to develop our discriminator model. We will build a realtively small convolutional neural network. we dont include any pooling layers here due to the stride that we set. this stride is enough to effectively downsample our image at each pass. from 28,28 to 14,14 down to 7,7. for more info on this check out the link for a more in depth explanation of padding and strides in convolutions: https://machinelearningmastery.com/padding-and-stride-for-convolutional-neural-networks/"
   ]
  },
  {
   "cell_type": "code",
   "execution_count": 0,
   "metadata": {
    "colab": {},
    "colab_type": "code",
    "id": "rtY8EPcywlIH"
   },
   "outputs": [],
   "source": [
    "from keras.models import Sequential\n",
    "from keras.layers import Dense\n",
    "from keras.layers import Conv2D\n",
    "from keras.layers import Flatten \n",
    "from keras.layers import Dropout\n",
    "from keras.layers import LeakyReLU\n",
    "from keras.optimizers import Adam\n",
    "\n",
    "\n",
    "def make_discriminator(input_shape =(28,28,1)):\n",
    "    \n",
    "    model = Sequential()\n",
    "    \n",
    "    model.add(Conv2D(64, (3,3), strides=(2,2), padding='same', input_shape=input_shape ))\n",
    "    model.add(LeakyReLU(alpha=0.2))\n",
    "    model.add(Dropout(0.4))\n",
    "    \n",
    "    model.add(Conv2D(64, (3,3), strides=(2,2), padding='same'))\n",
    "    model.add(LeakyReLU(alpha=0.2))\n",
    "    model.add(Dropout(0.4))\n",
    "    \n",
    "    model.add(Flatten())\n",
    "    model.add(Dense(1,activation='sigmoid')) #output is one because we care about real/fake ex, not the number itself\n",
    "    \n",
    "    #compile the model\n",
    "    opt = Adam(lr=0.0002, beta_1=0.5)\n",
    "    model.compile(loss='binary_crossentropy',optimizer = opt, metrics =['accuracy'])\n",
    "    \n",
    "    return model\n",
    "\n"
   ]
  },
  {
   "cell_type": "markdown",
   "metadata": {
    "colab_type": "text",
    "id": "4iEhvJkmwlIJ"
   },
   "source": [
    "## Data preprocessing and fake sample generation\n",
    "\n",
    "Before we can begin to train the model, we need to make some slight modofications to our data before we can pass it into the discriminator model. First of all, we need to make the data into a 3D format. Usually with images we woud have the 3 color channels. in our case since we only have one color channel our data is currently in the form of 2 dimensions. We need to reshape it slighly.\n",
    "\n",
    "Next, we need to normalize our data. the pixel scale goes up to 255 so we simply divide by this max value in order to have a smaller range for the network weights to converge. if we didnt do this step, the model could take a really long time to converge or it may simply fail to do so."
   ]
  },
  {
   "cell_type": "code",
   "execution_count": 5,
   "metadata": {
    "colab": {
     "base_uri": "https://localhost:8080/",
     "height": 52
    },
    "colab_type": "code",
    "id": "ccoZs1lGwlIJ",
    "outputId": "2d90e99b-4c21-4ef8-d714-cfbc5603c0db"
   },
   "outputs": [
    {
     "name": "stdout",
     "output_type": "stream",
     "text": [
      "(60000, 28, 28)\n",
      "(60000, 28, 28, 1)\n"
     ]
    }
   ],
   "source": [
    "def prep_data():\n",
    "    # only care about the training dataset, we use palceholders for the other variables\n",
    "    (X,_),(_,_) = load_data()\n",
    "    \n",
    "    \n",
    "    print(X.shape)\n",
    "    #upscale our data to 3D\n",
    "    X = np.expand_dims(X,axis=-1)\n",
    "    print(X.shape)\n",
    "    \n",
    "    X = X.astype('float32') # cast from int to float before normalization\n",
    "    X /= 255.0 # normalize\n",
    "    \n",
    "    return X\n",
    "    \n",
    "real_data = prep_data()"
   ]
  },
  {
   "cell_type": "code",
   "execution_count": 0,
   "metadata": {
    "colab": {},
    "colab_type": "code",
    "id": "KuVNMlblwlIL"
   },
   "outputs": [],
   "source": [
    "def generate_real_samples(data,n_samples):\n",
    "    \"\"\" samples from train dataset at random\n",
    "    \"\"\"\n",
    "    \n",
    "    indexes = np.random.randint(0,data.shape[0],n_samples)\n",
    "    \n",
    "    samples = data[indexes]\n",
    "    #add data label\n",
    "    labels = np.ones((n_samples,1))\n",
    "    \n",
    "    return samples,labels\n",
    "\n",
    "\n",
    "def generate_fake_samples(n_samples):\n",
    "    \n",
    "    #generate some noise\n",
    "    fake_data = np.random.rand(n_samples * 28 * 28)\n",
    "    \n",
    "    fake_data = fake_data.reshape((n_samples,28,28,1)) #reshape to 3D matrix\n",
    "    fake_labels = np.zeros((n_samples,1)) # add labels to data\n",
    "    \n",
    "    return fake_data,fake_labels"
   ]
  },
  {
   "cell_type": "code",
   "execution_count": 7,
   "metadata": {
    "colab": {
     "base_uri": "https://localhost:8080/",
     "height": 1000
    },
    "colab_type": "code",
    "id": "U7MNPfAbwlIM",
    "outputId": "4e10b36b-7244-4896-f82b-bcee1fd73e19"
   },
   "outputs": [
    {
     "name": "stderr",
     "output_type": "stream",
     "text": [
      "WARNING: Logging before flag parsing goes to stderr.\n",
      "W0803 14:31:57.568082 140520980412288 deprecation_wrapper.py:119] From /usr/local/lib/python3.6/dist-packages/keras/backend/tensorflow_backend.py:74: The name tf.get_default_graph is deprecated. Please use tf.compat.v1.get_default_graph instead.\n",
      "\n",
      "W0803 14:31:57.585442 140520980412288 deprecation_wrapper.py:119] From /usr/local/lib/python3.6/dist-packages/keras/backend/tensorflow_backend.py:517: The name tf.placeholder is deprecated. Please use tf.compat.v1.placeholder instead.\n",
      "\n",
      "W0803 14:31:57.588215 140520980412288 deprecation_wrapper.py:119] From /usr/local/lib/python3.6/dist-packages/keras/backend/tensorflow_backend.py:4138: The name tf.random_uniform is deprecated. Please use tf.random.uniform instead.\n",
      "\n",
      "W0803 14:31:57.604362 140520980412288 deprecation_wrapper.py:119] From /usr/local/lib/python3.6/dist-packages/keras/backend/tensorflow_backend.py:133: The name tf.placeholder_with_default is deprecated. Please use tf.compat.v1.placeholder_with_default instead.\n",
      "\n",
      "W0803 14:31:57.613404 140520980412288 deprecation.py:506] From /usr/local/lib/python3.6/dist-packages/keras/backend/tensorflow_backend.py:3445: calling dropout (from tensorflow.python.ops.nn_ops) with keep_prob is deprecated and will be removed in a future version.\n",
      "Instructions for updating:\n",
      "Please use `rate` instead of `keep_prob`. Rate should be set to `rate = 1 - keep_prob`.\n",
      "W0803 14:31:57.684147 140520980412288 deprecation_wrapper.py:119] From /usr/local/lib/python3.6/dist-packages/keras/optimizers.py:790: The name tf.train.Optimizer is deprecated. Please use tf.compat.v1.train.Optimizer instead.\n",
      "\n",
      "W0803 14:31:57.690536 140520980412288 deprecation_wrapper.py:119] From /usr/local/lib/python3.6/dist-packages/keras/backend/tensorflow_backend.py:3376: The name tf.log is deprecated. Please use tf.math.log instead.\n",
      "\n",
      "W0803 14:31:57.696210 140520980412288 deprecation.py:323] From /usr/local/lib/python3.6/dist-packages/tensorflow/python/ops/nn_impl.py:180: add_dispatch_support.<locals>.wrapper (from tensorflow.python.ops.array_ops) is deprecated and will be removed in a future version.\n",
      "Instructions for updating:\n",
      "Use tf.where in 2.0, which has the same broadcast rule as np.where\n"
     ]
    },
    {
     "name": "stdout",
     "output_type": "stream",
     "text": [
      "0.6872167 0.7351636\n",
      "real accuracy: 0.5625\n",
      "fake accuracy: 0.2265625\n",
      "0.67806345 0.7111352\n",
      "real accuracy: 0.6875\n",
      "fake accuracy: 0.359375\n",
      "0.6729786 0.6892053\n",
      "real accuracy: 0.71875\n",
      "fake accuracy: 0.5078125\n",
      "0.6711968 0.6636951\n",
      "real accuracy: 0.7734375\n",
      "fake accuracy: 0.78125\n",
      "0.6698617 0.6317404\n",
      "real accuracy: 0.71875\n",
      "fake accuracy: 0.8828125\n",
      "0.6740322 0.60701036\n",
      "real accuracy: 0.671875\n",
      "fake accuracy: 0.953125\n",
      "0.67152786 0.5856986\n",
      "real accuracy: 0.6953125\n",
      "fake accuracy: 0.96875\n",
      "0.6636257 0.5681695\n",
      "real accuracy: 0.828125\n",
      "fake accuracy: 1.0\n",
      "0.6662552 0.5298065\n",
      "real accuracy: 0.7578125\n",
      "fake accuracy: 1.0\n",
      "0.66472596 0.4960464\n",
      "real accuracy: 0.7890625\n",
      "fake accuracy: 1.0\n",
      "0.6586058 0.46786207\n",
      "real accuracy: 0.84375\n",
      "fake accuracy: 1.0\n",
      "0.6498905 0.43601295\n",
      "real accuracy: 0.875\n",
      "fake accuracy: 1.0\n",
      "0.6484415 0.4104225\n",
      "real accuracy: 0.8359375\n",
      "fake accuracy: 1.0\n",
      "0.6488079 0.38398322\n",
      "real accuracy: 0.8125\n",
      "fake accuracy: 1.0\n",
      "0.63884854 0.3565629\n",
      "real accuracy: 0.859375\n",
      "fake accuracy: 1.0\n",
      "0.62963057 0.31787184\n",
      "real accuracy: 0.8984375\n",
      "fake accuracy: 1.0\n",
      "0.6215494 0.2910406\n",
      "real accuracy: 0.8984375\n",
      "fake accuracy: 1.0\n",
      "0.62680966 0.26604813\n",
      "real accuracy: 0.859375\n",
      "fake accuracy: 1.0\n",
      "0.6103687 0.24485672\n",
      "real accuracy: 0.8984375\n",
      "fake accuracy: 1.0\n",
      "0.59600365 0.22620787\n",
      "real accuracy: 0.9140625\n",
      "fake accuracy: 1.0\n",
      "0.57249457 0.20777984\n",
      "real accuracy: 0.9296875\n",
      "fake accuracy: 1.0\n",
      "0.57202303 0.18144953\n",
      "real accuracy: 0.9375\n",
      "fake accuracy: 1.0\n",
      "0.54704773 0.16789271\n",
      "real accuracy: 0.9453125\n",
      "fake accuracy: 1.0\n",
      "0.52730536 0.14694747\n",
      "real accuracy: 1.0\n",
      "fake accuracy: 1.0\n",
      "0.50831634 0.14214557\n",
      "real accuracy: 0.9765625\n",
      "fake accuracy: 1.0\n",
      "0.49704257 0.1254512\n",
      "real accuracy: 0.9765625\n",
      "fake accuracy: 1.0\n",
      "0.4799479 0.11775317\n",
      "real accuracy: 0.9765625\n",
      "fake accuracy: 1.0\n",
      "0.43796313 0.10474037\n",
      "real accuracy: 1.0\n",
      "fake accuracy: 1.0\n",
      "0.43252295 0.09176852\n",
      "real accuracy: 0.9765625\n",
      "fake accuracy: 1.0\n",
      "0.40302104 0.087131396\n",
      "real accuracy: 1.0\n",
      "fake accuracy: 1.0\n",
      "0.37689057 0.07502285\n",
      "real accuracy: 1.0\n",
      "fake accuracy: 1.0\n",
      "0.36774036 0.079901636\n",
      "real accuracy: 1.0\n",
      "fake accuracy: 1.0\n",
      "0.33259273 0.06538694\n",
      "real accuracy: 1.0\n",
      "fake accuracy: 1.0\n",
      "0.32267764 0.062154643\n",
      "real accuracy: 0.9921875\n",
      "fake accuracy: 1.0\n",
      "0.29697236 0.05921015\n",
      "real accuracy: 1.0\n",
      "fake accuracy: 1.0\n",
      "0.27235985 0.053652488\n",
      "real accuracy: 1.0\n",
      "fake accuracy: 1.0\n",
      "0.25204095 0.055176124\n",
      "real accuracy: 1.0\n",
      "fake accuracy: 1.0\n",
      "0.2470499 0.047832347\n",
      "real accuracy: 1.0\n",
      "fake accuracy: 1.0\n",
      "0.22879708 0.04567673\n",
      "real accuracy: 1.0\n",
      "fake accuracy: 1.0\n",
      "0.20371121 0.04225884\n",
      "real accuracy: 1.0\n",
      "fake accuracy: 1.0\n",
      "0.17771275 0.03835847\n",
      "real accuracy: 1.0\n",
      "fake accuracy: 1.0\n",
      "0.17552707 0.035007406\n",
      "real accuracy: 1.0\n",
      "fake accuracy: 1.0\n",
      "0.16082743 0.03257829\n",
      "real accuracy: 1.0\n",
      "fake accuracy: 1.0\n",
      "0.14188059 0.032268595\n",
      "real accuracy: 1.0\n",
      "fake accuracy: 1.0\n",
      "0.15150122 0.028074138\n",
      "real accuracy: 0.9921875\n",
      "fake accuracy: 1.0\n",
      "0.13043661 0.025639037\n",
      "real accuracy: 0.9921875\n",
      "fake accuracy: 1.0\n",
      "0.124259904 0.025629114\n",
      "real accuracy: 1.0\n",
      "fake accuracy: 1.0\n",
      "0.110309154 0.022212014\n",
      "real accuracy: 1.0\n",
      "fake accuracy: 1.0\n",
      "0.11312865 0.023967534\n",
      "real accuracy: 1.0\n",
      "fake accuracy: 1.0\n",
      "0.10080649 0.022226691\n",
      "real accuracy: 1.0\n",
      "fake accuracy: 1.0\n",
      "0.09702111 0.02309328\n",
      "real accuracy: 1.0\n",
      "fake accuracy: 1.0\n",
      "0.08989223 0.018097468\n",
      "real accuracy: 1.0\n",
      "fake accuracy: 1.0\n",
      "0.08349118 0.018670006\n",
      "real accuracy: 1.0\n",
      "fake accuracy: 1.0\n",
      "0.07442963 0.01851384\n",
      "real accuracy: 1.0\n",
      "fake accuracy: 1.0\n",
      "0.067993656 0.017617417\n",
      "real accuracy: 1.0\n",
      "fake accuracy: 1.0\n",
      "0.07251565 0.015920963\n",
      "real accuracy: 1.0\n",
      "fake accuracy: 1.0\n",
      "0.062872276 0.0147912\n",
      "real accuracy: 1.0\n",
      "fake accuracy: 1.0\n",
      "0.060222827 0.011786561\n",
      "real accuracy: 1.0\n",
      "fake accuracy: 1.0\n",
      "0.05002035 0.011941522\n",
      "real accuracy: 1.0\n",
      "fake accuracy: 1.0\n",
      "0.057926234 0.012114145\n",
      "real accuracy: 1.0\n",
      "fake accuracy: 1.0\n",
      "0.050712302 0.010755754\n",
      "real accuracy: 1.0\n",
      "fake accuracy: 1.0\n",
      "0.049834393 0.011142444\n",
      "real accuracy: 1.0\n",
      "fake accuracy: 1.0\n",
      "0.0458325 0.011389627\n",
      "real accuracy: 1.0\n",
      "fake accuracy: 1.0\n",
      "0.042740405 0.009393191\n",
      "real accuracy: 1.0\n",
      "fake accuracy: 1.0\n",
      "0.038959183 0.00852535\n",
      "real accuracy: 1.0\n",
      "fake accuracy: 1.0\n",
      "0.040661357 0.009219006\n",
      "real accuracy: 1.0\n",
      "fake accuracy: 1.0\n",
      "0.043593153 0.008415563\n",
      "real accuracy: 1.0\n",
      "fake accuracy: 1.0\n",
      "0.034147456 0.008485792\n",
      "real accuracy: 1.0\n",
      "fake accuracy: 1.0\n",
      "0.03370519 0.007988239\n",
      "real accuracy: 1.0\n",
      "fake accuracy: 1.0\n",
      "0.03190373 0.006714\n",
      "real accuracy: 1.0\n",
      "fake accuracy: 1.0\n",
      "0.031001493 0.0079434775\n",
      "real accuracy: 1.0\n",
      "fake accuracy: 1.0\n",
      "0.03169866 0.008336885\n",
      "real accuracy: 1.0\n",
      "fake accuracy: 1.0\n",
      "0.028799927 0.0071411743\n",
      "real accuracy: 1.0\n",
      "fake accuracy: 1.0\n",
      "0.027919695 0.007375722\n",
      "real accuracy: 1.0\n",
      "fake accuracy: 1.0\n",
      "0.031515993 0.00556227\n",
      "real accuracy: 1.0\n",
      "fake accuracy: 1.0\n",
      "0.025495114 0.00551817\n",
      "real accuracy: 1.0\n",
      "fake accuracy: 1.0\n",
      "0.020966493 0.0058211796\n",
      "real accuracy: 1.0\n",
      "fake accuracy: 1.0\n",
      "0.02243676 0.00540499\n",
      "real accuracy: 1.0\n",
      "fake accuracy: 1.0\n",
      "0.022143377 0.004813598\n",
      "real accuracy: 1.0\n",
      "fake accuracy: 1.0\n",
      "0.021332514 0.004363102\n",
      "real accuracy: 1.0\n",
      "fake accuracy: 1.0\n",
      "0.022976598 0.0050326376\n",
      "real accuracy: 1.0\n",
      "fake accuracy: 1.0\n",
      "0.019494474 0.005113152\n",
      "real accuracy: 1.0\n",
      "fake accuracy: 1.0\n",
      "0.016965386 0.0043559065\n",
      "real accuracy: 1.0\n",
      "fake accuracy: 1.0\n",
      "0.020090707 0.0038919242\n",
      "real accuracy: 1.0\n",
      "fake accuracy: 1.0\n",
      "0.01779743 0.003927923\n",
      "real accuracy: 1.0\n",
      "fake accuracy: 1.0\n",
      "0.018281072 0.0040400773\n",
      "real accuracy: 1.0\n",
      "fake accuracy: 1.0\n",
      "0.017195525 0.0044712247\n",
      "real accuracy: 1.0\n",
      "fake accuracy: 1.0\n",
      "0.0208426 0.0045193383\n",
      "real accuracy: 1.0\n",
      "fake accuracy: 1.0\n",
      "0.014621664 0.0042957887\n",
      "real accuracy: 1.0\n",
      "fake accuracy: 1.0\n",
      "0.014291883 0.0041161887\n",
      "real accuracy: 1.0\n",
      "fake accuracy: 1.0\n",
      "0.016802195 0.0042326236\n",
      "real accuracy: 1.0\n",
      "fake accuracy: 1.0\n",
      "0.014222633 0.0033566705\n",
      "real accuracy: 1.0\n",
      "fake accuracy: 1.0\n",
      "0.016805716 0.0037349823\n",
      "real accuracy: 1.0\n",
      "fake accuracy: 1.0\n",
      "0.013495897 0.0028348863\n",
      "real accuracy: 1.0\n",
      "fake accuracy: 1.0\n",
      "0.012186055 0.0029903282\n",
      "real accuracy: 1.0\n",
      "fake accuracy: 1.0\n",
      "0.017224245 0.0027952008\n",
      "real accuracy: 1.0\n",
      "fake accuracy: 1.0\n",
      "0.011894114 0.0033675476\n",
      "real accuracy: 1.0\n",
      "fake accuracy: 1.0\n",
      "0.013008243 0.00309424\n",
      "real accuracy: 1.0\n",
      "fake accuracy: 1.0\n",
      "0.009177858 0.0025212655\n",
      "real accuracy: 1.0\n",
      "fake accuracy: 1.0\n",
      "0.012518061 0.002948464\n",
      "real accuracy: 1.0\n",
      "fake accuracy: 1.0\n"
     ]
    }
   ],
   "source": [
    "def train_discriminator(discriminator,data,n_epochs=100, batch_size=256):\n",
    "    \n",
    "    half_batch = int(batch_size/2)\n",
    "    \n",
    "    for i in range(n_epochs):\n",
    "        #get some real and fake data\n",
    "        x_real_batch,y_real_batch = generate_real_samples(data,half_batch)\n",
    "        x_fake_batch,y_fake_batch = generate_fake_samples(half_batch)\n",
    "        \n",
    "        #train model on both examples\n",
    "        toto,real_acc = discriminator.train_on_batch(x_real_batch,y_real_batch)\n",
    "        toto2,fake_acc= discriminator.train_on_batch(x_fake_batch,y_fake_batch)\n",
    "        \n",
    "        print(toto,toto2)\n",
    "        print(\"real accuracy:\",real_acc)\n",
    "        print(\"fake accuracy:\",fake_acc)\n",
    "        \n",
    "disc_model = make_discriminator()\n",
    "train_discriminator(disc_model,real_data)\n",
    "        "
   ]
  },
  {
   "cell_type": "markdown",
   "metadata": {
    "colab_type": "text",
    "id": "6uHZkJ86wlIO"
   },
   "source": [
    "## Building the Generator Model\n",
    "\n",
    "The generator will be responsible for creating images realistic enough to fool the discriminator. It will sample data from a latent space and reconstruct it to the distribution of the data that we are trying to aproximate (mnist digits). The latent space is an arbitrarily defined vector space of Gaussian distributed values. Our Generator will associate points from this space to an image of a known dimension. During training, the generator will slowly build up its representation of the data distribution onto the latent space. This will give it a compressed representation of the data so that points relatively close in the latent space will correspond to similar looking digits in our example. \n",
    "\n",
    "Inputs: Point in latent space, e.g. a 100 element vector of Gaussian random numbers.\n",
    "Outputs: Two-dimensional square grayscale image of 28×28 pixels with pixel values in [0,1].\n",
    "\n",
    "Now we have to build a generator model that will transform the data contained in our latent vector into the final distribution of 28*28 (784 dimensions/pixels with a value between 0 and 1. We could go about this in a few ways but we will use a combination of dense fully connected layers and convolutional layers.\n",
    "The first dense layer will convert our latent vector into a slightly bigger vector that we can then feed into convolution layers, namely feature maps.\n",
    "\n",
    "In our example our fully connected layer will output a vector of 128*7*7 for a total of 128 7X7 feature maps or filters. This give enough \"space\" for the generator to learn a varied amount of stuff to invent, create and generate.\n",
    "\n",
    "Next, we need a way to go from this low dimensional 7X7 data back up to our original 28X28 image resolution. One way to do this would be by using a UpSampling2D layer ( a sort of reverse pooling layer) followed by a standard 2D Conv layer. There is another layer which combines these two operations called the Conv2DTranspose layer. \n",
    "\n",
    "We configure the Conv2DTranspose layer with a stride of 2X2 which will quadruple the size of our input feature maps (double the width and height) It is also a good practice to use a kernel size that is a factor of the stride in order to avoid checkerboard artifacts. (https://distill.pub/2016/deconv-checkerboard/)\n"
   ]
  },
  {
   "cell_type": "code",
   "execution_count": 0,
   "metadata": {
    "colab": {},
    "colab_type": "code",
    "id": "8oQm5L6HwlIO"
   },
   "outputs": [],
   "source": [
    "from keras.layers import Conv2DTranspose\n",
    "from keras.layers import Reshape\n",
    "\n",
    "def make_generator(latent_dim=100):\n",
    "    \n",
    "    \n",
    "    model = Sequential()\n",
    "    \n",
    "    #foundation for our first feature maps\n",
    "    n_nodes = 128*7*7\n",
    "    \n",
    "    model.add(Dense(n_nodes,input_dim=latent_dim))\n",
    "    model.add(LeakyReLU(alpha=0.2))\n",
    "    model.add(Reshape((7,7,128)))\n",
    "    \n",
    "    #upsample to 14x14\n",
    "    model.add(Conv2DTranspose(128,(4,4),strides=(2,2),padding=\"same\"))\n",
    "    model.add(LeakyReLU(alpha=0.2))\n",
    "    \n",
    "    #upsample to 28x28\n",
    "    model.add(Conv2DTranspose(128,(4,4),strides=(2,2),padding=\"same\"))\n",
    "    model.add(LeakyReLU(alpha=0.2))\n",
    "    model.add(Conv2D(1, (7,7), activation='sigmoid', padding='same'))\n",
    "    \n",
    "    return model\n",
    "\n",
    " \n",
    "gen_model = make_generator()"
   ]
  },
  {
   "cell_type": "code",
   "execution_count": 9,
   "metadata": {
    "colab": {
     "base_uri": "https://localhost:8080/",
     "height": 269
    },
    "colab_type": "code",
    "id": "MtHgp9n7wlIQ",
    "outputId": "34ec4b90-2ac6-4bed-ae8f-3bb534e61f52",
    "scrolled": true
   },
   "outputs": [
    {
     "data": {
      "image/png": "[encoded data removed]",
      "text/plain": [
       "<Figure size 432x288 with 25 Axes>"
      ]
     },
     "metadata": {
      "tags": []
     },
     "output_type": "display_data"
    }
   ],
   "source": [
    "def generate_latent_points(num_samples,latent_dim=100):\n",
    "    \"\"\" generates sample poitns from the latent space\n",
    "    \"\"\"\n",
    "    latent_points = np.random.randn(num_samples * latent_dim)\n",
    "    latent_points = latent_points.reshape((num_samples,latent_dim))\n",
    "    \n",
    "    return latent_points\n",
    "\n",
    "def generate_from_generator(generator,n_samples,latent_dim=100):\n",
    "    \n",
    "    latent_points = generate_latent_points(n_samples,latent_dim)\n",
    "    \n",
    "    X = generator.predict(latent_points)\n",
    "    y = np.zeros((n_samples,1))\n",
    "    \n",
    "    return X,y\n",
    "\n",
    "\n",
    "def generate_from_generator_fixed(generator,n_samples,latent_points,latent_dim=100):\n",
    "    \n",
    "    \n",
    "    X = generator.predict(latent_points)\n",
    "    \n",
    "    return X\n",
    "\n",
    "\n",
    "\n",
    "samples =25\n",
    "\n",
    "fake_ims,_ = generate_from_generator(gen_model,samples)\n",
    "\n",
    "for i in range(samples):\n",
    "    \n",
    "    plt.subplot(5,5,i+1)\n",
    "    plt.axis(\"off\")\n",
    "    \n",
    "    plt.imshow(fake_ims[i, : , :, 0], cmap=\"gray\" )\n",
    "plt.show()\n",
    "    "
   ]
  },
  {
   "cell_type": "markdown",
   "metadata": {
    "colab_type": "text",
    "id": "3B0yGDK5wlIS"
   },
   "source": [
    "## Training the Generator model\n",
    "\n",
    "this training sequence is basically the same as the other GAN examples, either look on the site for an explanation or refer to the first gan tutorial followed."
   ]
  },
  {
   "cell_type": "code",
   "execution_count": 10,
   "metadata": {
    "colab": {
     "base_uri": "https://localhost:8080/",
     "height": 52
    },
    "colab_type": "code",
    "id": "WX2s3gQpwlIS",
    "outputId": "5c620b67-5a6e-4f41-c9a8-4adda9454f5e"
   },
   "outputs": [
    {
     "name": "stdout",
     "output_type": "stream",
     "text": [
      "(60000, 28, 28)\n",
      "(60000, 28, 28, 1)\n"
     ]
    }
   ],
   "source": [
    "from keras.optimizers import Adam\n",
    "\n",
    "def make_gan(discriminator,generator):\n",
    "    \n",
    "    discriminator.trainable = False\n",
    "    \n",
    "    model = Sequential()\n",
    "    \n",
    "    model.add(generator)\n",
    "    model.add(discriminator)\n",
    "    \n",
    "    optimizer = Adam(lr=0.0002, beta_1 = 0.5)\n",
    "    model.compile(loss=\"binary_crossentropy\", optimizer= optimizer)\n",
    "    \n",
    "    return model\n",
    "\n",
    "dataset = prep_data()\n",
    "\n",
    "generator = make_generator()\n",
    "discriminator = make_discriminator()\n",
    "\n",
    "gan_model = make_gan(discriminator, generator)"
   ]
  },
  {
   "cell_type": "code",
   "execution_count": 11,
   "metadata": {
    "colab": {
     "base_uri": "https://localhost:8080/",
     "height": 1000
    },
    "colab_type": "code",
    "id": "au4dg8rawlIU",
    "outputId": "4c5a0e1d-2037-41bf-9f3d-904ea77a0035"
   },
   "outputs": [
    {
     "name": "stdout",
     "output_type": "stream",
     "text": [
      "batches per epoch: 234\n",
      "starting epoch: 0\n"
     ]
    },
    {
     "name": "stderr",
     "output_type": "stream",
     "text": [
      "/usr/local/lib/python3.6/dist-packages/keras/engine/training.py:490: UserWarning: Discrepancy between trainable weights and collected trainable weights, did you set `model.trainable` without calling `model.compile` after ?\n",
      "  'Discrepancy between trainable weights and collected trainable'\n",
      "/usr/local/lib/python3.6/dist-packages/keras/engine/training.py:490: UserWarning: Discrepancy between trainable weights and collected trainable weights, did you set `model.trainable` without calling `model.compile` after ?\n",
      "  'Discrepancy between trainable weights and collected trainable'\n"
     ]
    },
    {
     "name": "stdout",
     "output_type": "stream",
     "text": [
      "starting epoch: 1\n",
      "starting epoch: 2\n",
      "starting epoch: 3\n",
      "starting epoch: 4\n",
      "starting epoch: 5\n",
      "starting epoch: 6\n",
      "starting epoch: 7\n",
      "starting epoch: 8\n",
      "starting epoch: 9\n",
      "starting epoch: 10\n",
      "starting epoch: 11\n",
      "starting epoch: 12\n",
      "starting epoch: 13\n",
      "starting epoch: 14\n",
      "starting epoch: 15\n",
      "starting epoch: 16\n",
      "starting epoch: 17\n",
      "starting epoch: 18\n",
      "starting epoch: 19\n",
      "starting epoch: 20\n",
      "starting epoch: 21\n",
      "starting epoch: 22\n",
      "starting epoch: 23\n",
      "starting epoch: 24\n",
      "starting epoch: 25\n",
      "starting epoch: 26\n",
      "starting epoch: 27\n",
      "starting epoch: 28\n",
      "starting epoch: 29\n",
      "starting epoch: 30\n",
      "starting epoch: 31\n",
      "starting epoch: 32\n",
      "starting epoch: 33\n",
      "starting epoch: 34\n",
      "starting epoch: 35\n",
      "starting epoch: 36\n",
      "starting epoch: 37\n",
      "starting epoch: 38\n",
      "starting epoch: 39\n",
      "starting epoch: 40\n",
      "starting epoch: 41\n",
      "starting epoch: 42\n",
      "starting epoch: 43\n",
      "starting epoch: 44\n",
      "starting epoch: 45\n",
      "starting epoch: 46\n",
      "starting epoch: 47\n",
      "starting epoch: 48\n",
      "starting epoch: 49\n"
     ]
    }
   ],
   "source": [
    "def train(disc,gen,gan,data,latent_dim=100,n_epochs = 50, batch_size = 256):\n",
    "    \n",
    "    n_batches = int(data.shape[0] / batch_size)\n",
    "    print(\"batches per epoch:\",n_batches)\n",
    "    half_batch = int(batch_size/2) \n",
    "    \n",
    "    #storing the metrics\n",
    "    gan_loss = []\n",
    "    disc_loss = []\n",
    "    \n",
    "    #latent points for seeing improvement of generator over time\n",
    "    n_images = 10\n",
    "    fix_latent_points = generate_latent_points(n_images,latent_dim)\n",
    "    progress_images = [] #will store images generated from the same latent point after each epoch\n",
    "    \n",
    "    for epoch in range(n_epochs):\n",
    "        print('starting epoch:',epoch)\n",
    "        for batch_num in range(n_batches):\n",
    "            #train the discriminator\n",
    "            X_real,y_real = generate_real_samples(data,half_batch)\n",
    "            \n",
    "            X_fake,y_fake = generate_from_generator(gen,half_batch)\n",
    "            \n",
    "            #combine data into a single real/fake stack\n",
    "            X,y = np.vstack((X_real,X_fake)) , np.vstack((y_real, y_fake))\n",
    "            \n",
    "            #train discriminator\n",
    "            d_loss, _ = disc.train_on_batch(X,y)\n",
    "            disc_loss.append(d_loss)\n",
    "            \n",
    "            #train the gan model itself to improve the generator\n",
    "            latent_points = generate_latent_points(batch_size,latent_dim)\n",
    "            gan_labels = np.ones((batch_size,1))\n",
    "            \n",
    "            g_loss = gan.train_on_batch(latent_points,gan_labels)\n",
    "            gan_loss.append(g_loss)\n",
    "            \n",
    "            #print(\"disc loss:\",d_loss)\n",
    "            #print(\"gan loss:\",g_loss)\n",
    "            \n",
    "            if batch_num % 10 == 0:\n",
    "                #generate some images to check gan progress\n",
    "                imgs = gen.predict(fix_latent_points)\n",
    "                progress_images.append(imgs)\n",
    "\n",
    "        \n",
    "    return gan_loss,disc_loss,progress_images\n",
    "\n",
    "\n",
    "\n",
    "gan_loss,disc_loss,progress_images = train(discriminator,generator,gan_model,dataset)\n",
    "\n",
    "            \n",
    "            "
   ]
  },
  {
   "cell_type": "code",
   "execution_count": 12,
   "metadata": {
    "colab": {
     "base_uri": "https://localhost:8080/",
     "height": 595
    },
    "colab_type": "code",
    "id": "IG4rVJXpnBDb",
    "outputId": "9bb1b1f9-1ef2-4ec3-dc96-911c026fffad"
   },
   "outputs": [
    {
     "data": {
      "image/png": "[encoded data removed]",
      "text/plain": [
       "<Figure size 1440x720 with 1 Axes>"
      ]
     },
     "metadata": {
      "tags": []
     },
     "output_type": "display_data"
    }
   ],
   "source": [
    "plt.figure(figsize=(20,10))\n",
    "\n",
    "plt.plot(gan_loss)\n",
    "plt.plot(disc_loss)\n",
    "\n",
    "plt.show()"
   ]
  },
  {
   "cell_type": "code",
   "execution_count": 0,
   "metadata": {
    "colab": {},
    "colab_type": "code",
    "id": "-weDWPdDoe6k"
   },
   "outputs": [],
   "source": []
  },
  {
   "cell_type": "markdown",
   "metadata": {
    "colab_type": "text",
    "id": "xZSFZ-2Bsw17"
   },
   "source": [
    "code for making the animation\n",
    "https://tomroelandts.com/articles/how-to-create-animated-gifs-with-python\n",
    "\n",
    "saving to mp4 format: https://matplotlib.org/2.1.2/gallery/animation/basic_example_writer_sgskip.html\n"
   ]
  },
  {
   "cell_type": "code",
   "execution_count": 16,
   "metadata": {
    "colab": {
     "base_uri": "https://localhost:8080/",
     "height": 326
    },
    "colab_type": "code",
    "id": "dDh9F6MBnNog",
    "outputId": "49ee3dfc-6fe6-4ebf-9b05-d12c23a64fd3"
   },
   "outputs": [
    {
     "data": {
      "image/png": "[encoded data removed]",
      "text/plain": [
       "<Figure size 432x288 with 1 Axes>"
      ]
     },
     "metadata": {
      "tags": []
     },
     "output_type": "display_data"
    }
   ],
   "source": [
    "from matplotlib import animation\n",
    "\n",
    "ims = []\n",
    "fig = plt.figure()\n",
    "ax = fig.add_axes([0,0,1,1], frameon=False, aspect=1)\n",
    "ax.set_xticks([]); ax.set_yticks([])\n",
    "\n",
    "for train_ims in progress_images:\n",
    "    im_1 = plt.imshow(train_ims[4,:,:,0],cmap='gray_r',vmin=0, vmax=1, animated=True) #add first image for test\n",
    "    ims.append([im_1])\n",
    "    #plt.pause(0.1) \n",
    "\n",
    "mp4_writer =  animation.writers['ffmpeg']\n",
    "writer = mp4_writer(fps=24, metadata=dict(artist='Me'), bitrate=1800)\n",
    "\n",
    "\n",
    "anim = animation.ArtistAnimation(fig,ims)\n",
    "anim.save(\"test_gif_3.mp4\", writer= writer)\n"
   ]
  },
  {
   "cell_type": "code",
   "execution_count": 14,
   "metadata": {
    "colab": {
     "base_uri": "https://localhost:8080/",
     "height": 269
    },
    "colab_type": "code",
    "id": "iBQquNGx42KW",
    "outputId": "9ab0e83b-698c-4923-8ab4-adf954838653"
   },
   "outputs": [
    {
     "data": {
      "image/png": "[encoded data removed]",
      "text/plain": [
       "<Figure size 432x288 with 25 Axes>"
      ]
     },
     "metadata": {
      "tags": []
     },
     "output_type": "display_data"
    }
   ],
   "source": [
    "samples =25\n",
    "\n",
    "fake_ims,_ = generate_from_generator(generator,samples)\n",
    "\n",
    "for i in range(samples):\n",
    "    \n",
    "    plt.subplot(5,5,i+1)\n",
    "    plt.axis(\"off\")\n",
    "    \n",
    "    plt.imshow(fake_ims[i, : , :, 0], cmap=\"gray\" )\n",
    "plt.show()"
   ]
  }
 ],
 "metadata": {
  "accelerator": "GPU",
  "colab": {
   "collapsed_sections": [],
   "name": "MNIST GAN.ipynb",
   "provenance": [],
   "version": "0.3.2"
  },
  "kernelspec": {
   "display_name": "Python 3",
   "language": "python",
   "name": "python3"
  },
  "language_info": {
   "codemirror_mode": {
    "name": "ipython",
    "version": 3
   },
   "file_extension": ".py",
   "mimetype": "text/x-python",
   "name": "python",
   "nbconvert_exporter": "python",
   "pygments_lexer": "ipython3",
   "version": "3.6.8"
  }
 },
 "nbformat": 4,
 "nbformat_minor": 1
}
